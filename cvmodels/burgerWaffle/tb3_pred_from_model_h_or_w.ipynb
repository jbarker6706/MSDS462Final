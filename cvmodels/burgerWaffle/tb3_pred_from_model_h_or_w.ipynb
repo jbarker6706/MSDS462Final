{
 "cells": [
  {
   "cell_type": "code",
   "execution_count": 2,
   "metadata": {},
   "outputs": [
    {
     "name": "stdout",
     "output_type": "stream",
     "text": [
      "Model: \"sequential_4\"\n",
      "_________________________________________________________________\n",
      "Layer (type)                 Output Shape              Param #   \n",
      "=================================================================\n",
      "vgg16 (Model)                (None, 7, 7, 512)         14714688  \n",
      "_________________________________________________________________\n",
      "flatten_4 (Flatten)          (None, 25088)             0         \n",
      "_________________________________________________________________\n",
      "dense_5 (Dense)              (None, 1024)              25691136  \n",
      "_________________________________________________________________\n",
      "dropout_2 (Dropout)          (None, 1024)              0         \n",
      "_________________________________________________________________\n",
      "dense_6 (Dense)              (None, 2)                 2050      \n",
      "=================================================================\n",
      "Total params: 40,407,874\n",
      "Trainable params: 32,772,610\n",
      "Non-trainable params: 7,635,264\n",
      "_________________________________________________________________\n",
      "<class 'PIL.Image.Image'>\n",
      "[[1. 0.]]\n",
      "tb3hamburger\n",
      "<class 'PIL.Image.Image'>\n",
      "[[0.4411949 0.5588051]]\n",
      "tb3waffle\n",
      "<class 'str'>\n"
     ]
    }
   ],
   "source": [
    "#import rospy\n",
    "from std_msgs.msg import String\n",
    "\n",
    "import numpy as np\n",
    "from keras.models import load_model\n",
    "from keras.preprocessing.image import load_img\n",
    "from keras.preprocessing.image import img_to_array\n",
    "from keras.applications.vgg16 import preprocess_input\n",
    "from keras.applications.vgg16 import decode_predictions\n",
    "\n",
    "hamburgerdir = \"/home/jbarker6706/Documents/MSDS462/assignment8/test/tb3hamburger/\"\n",
    "waffledir = \"/home/jbarker6706/Documents/MSDS462/assignment8/test/tb3waffle/\"\n",
    "\n",
    "#rospy.init_node('camera_sim_publisher')\n",
    "\n",
    "#pub = rospy.Publisher('camera_sim', String, queue_size=10)\n",
    "\n",
    "#rate = rospy.Rate(2)\n",
    "\n",
    "# load model\n",
    "model = load_model('vgg16_tb3_burger_waffle.h5')\n",
    "model.summary()\n",
    "\n",
    "image_class = [\"tb3hamburger\", \"tb3waffle\"]\n",
    "\n",
    "msg = []\n",
    "\n",
    "def classify_image(image):\n",
    "    print(type(image))\n",
    "    image_array = img_to_array(image)\n",
    "    image_array = image_array.reshape((1, image_array.shape[0], image_array.shape[1], image_array.shape[2]))\n",
    "    image_array = preprocess_input(image_array)\n",
    "    yhat = model.predict(image_array)\n",
    "    print(yhat)\n",
    "    return image_class[np.argmax(yhat)]\n",
    "\n",
    "hamburger_image = load_img(hamburgerdir+\"8.png\", target_size=(224,224))\n",
    "msg.append(classify_image(hamburger_image))\n",
    "print(msg[0])\n",
    "\n",
    "waffle_image = load_img(waffledir+\"9.png\", target_size=(224,224))\n",
    "msg.append(classify_image(waffle_image))\n",
    "print(msg[1])\n",
    "print(type(msg[1]))"
   ]
  },
  {
   "cell_type": "code",
   "execution_count": null,
   "metadata": {},
   "outputs": [],
   "source": [
    "hamburger_image2 = load_img(hamburgerdir+\"9.png\", target_size=(224,224))\n",
    "\n",
    "waffle_image2 = load_img(waffledir+\"10.png\", target_size=(224,224))\n"
   ]
  },
  {
   "cell_type": "code",
   "execution_count": null,
   "metadata": {},
   "outputs": [],
   "source": [
    "from keras.preprocessing import image\n",
    "import matplotlib.pyplot as plt\n",
    "from matplotlib.pyplot import imshow\n",
    "%matplotlib inline\n"
   ]
  },
  {
   "cell_type": "code",
   "execution_count": null,
   "metadata": {},
   "outputs": [],
   "source": [
    "plt.imshow(hamburger_image)"
   ]
  },
  {
   "cell_type": "code",
   "execution_count": null,
   "metadata": {},
   "outputs": [],
   "source": [
    "plt.imshow(hamburger_image2)\n"
   ]
  },
  {
   "cell_type": "code",
   "execution_count": null,
   "metadata": {},
   "outputs": [],
   "source": [
    "plt.imshow(waffle_image)\n"
   ]
  },
  {
   "cell_type": "code",
   "execution_count": null,
   "metadata": {},
   "outputs": [],
   "source": [
    "plt.imshow(waffle_image2)\n"
   ]
  }
 ],
 "metadata": {
  "kernelspec": {
   "display_name": "Python 3",
   "language": "python",
   "name": "python3"
  },
  "language_info": {
   "codemirror_mode": {
    "name": "ipython",
    "version": 3
   },
   "file_extension": ".py",
   "mimetype": "text/x-python",
   "name": "python",
   "nbconvert_exporter": "python",
   "pygments_lexer": "ipython3",
   "version": "3.6.9"
  }
 },
 "nbformat": 4,
 "nbformat_minor": 2
}
