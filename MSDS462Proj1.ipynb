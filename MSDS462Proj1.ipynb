{
  "nbformat": 4,
  "nbformat_minor": 0,
  "metadata": {
    "colab": {
      "name": "MSDS462Proj1.ipynb",
      "provenance": [],
      "collapsed_sections": [],
      "authorship_tag": "ABX9TyMLBiTOPdf6ohBga59UVbTr",
      "include_colab_link": true
    },
    "kernelspec": {
      "name": "python3",
      "display_name": "Python 3"
    }
  },
  "cells": [
    {
      "cell_type": "markdown",
      "metadata": {
        "id": "view-in-github",
        "colab_type": "text"
      },
      "source": [
        "<a href=\"https://colab.research.google.com/github/jbarker6706/MSDS462Final/blob/master/MSDS462Proj1.ipynb\" target=\"_parent\"><img src=\"https://colab.research.google.com/assets/colab-badge.svg\" alt=\"Open In Colab\"/></a>"
      ]
    },
    {
      "cell_type": "markdown",
      "metadata": {
        "id": "diDIyngklcaj",
        "colab_type": "text"
      },
      "source": [
        "To install ROS and configure for development"
      ]
    },
    {
      "cell_type": "code",
      "metadata": {
        "id": "AI6ed_QEezfs",
        "colab_type": "code",
        "colab": {}
      },
      "source": [
        "echo deb http://packages.ros.org/ros/ubuntu $(lsb_release -sc) main | sudo tee /etc/apt/sources.list.d/ros-latest.list\n",
        "sudo apt-key adv --keyserver hkp://keyserver.ubuntu.com:80 --recv-key C1CF6E31E6BADE8868B172B4F42ED6FBAB17C654\n",
        "sudo apt -y update\n",
        "sudo apt -y install ros-melodic-desktop-full python-rosdep python-rosinstall python-rosinstall-generator python-wstool build-essential\n",
        "echo source /opt/ros/melodic/setup.bash >> ~/.bashrc"
      ],
      "execution_count": 0,
      "outputs": []
    },
    {
      "cell_type": "markdown",
      "metadata": {
        "id": "gcgKRayofSsy",
        "colab_type": "text"
      },
      "source": [
        "Create an SSH server to allow access from my Window laptop and a Docker Platform"
      ]
    },
    {
      "cell_type": "code",
      "metadata": {
        "id": "BnfeJiEPfdSk",
        "colab_type": "code",
        "colab": {}
      },
      "source": [
        "sudo apt install openssh-server docker.io"
      ],
      "execution_count": 0,
      "outputs": []
    },
    {
      "cell_type": "markdown",
      "metadata": {
        "id": "XZim4mm-fpqR",
        "colab_type": "text"
      },
      "source": [
        "To find the ip address of the Unbuntu machine"
      ]
    },
    {
      "cell_type": "code",
      "metadata": {
        "id": "R89aAZECfyCw",
        "colab_type": "code",
        "colab": {}
      },
      "source": [
        "ip -br address show"
      ],
      "execution_count": 0,
      "outputs": []
    },
    {
      "cell_type": "markdown",
      "metadata": {
        "id": "-XzoG6bXgAB8",
        "colab_type": "text"
      },
      "source": [
        "Additional Utilities and installation:\n",
        "  turtlebot3 simulator install,\n",
        "  editor,\n",
        "  pycharm"
      ]
    },
    {
      "cell_type": "code",
      "metadata": {
        "id": "Gvqc_Ag2gY7b",
        "colab_type": "code",
        "colab": {}
      },
      "source": [
        "sudo apt install ros-melodic-turtlebot3\n",
        "gedit script.py\n",
        "gedit ~/Downloads/todo.txt\n",
        "sudo snap install pycharm-community --classic"
      ],
      "execution_count": 0,
      "outputs": []
    },
    {
      "cell_type": "markdown",
      "metadata": {
        "id": "WQoMmRsnfBCH",
        "colab_type": "text"
      },
      "source": [
        "ROS Nodes"
      ]
    },
    {
      "cell_type": "markdown",
      "metadata": {
        "id": "lYMsy23lgzve",
        "colab_type": "text"
      },
      "source": [
        "ROS is a framework that provides developers of robots all the needed tools to build robots. They also provide a simulation environment which can can let the engineer test the code prior to instlling in the robot. "
      ]
    },
    {
      "cell_type": "markdown",
      "metadata": {
        "id": "YNJ4dzm6h6I2",
        "colab_type": "text"
      },
      "source": [
        "With ROS the robot is built around the idea of nodes and the ROS graph which follow publisher subscriber design pattern. With the frame work there is a master controller called roscore which each new node must register with as a publisher and request nodes it wants to subscribe to. A node is a speciliaed program that does one thing well such has provide odometer information which contains the location and postion of the robot."
      ]
    },
    {
      "cell_type": "markdown",
      "metadata": {
        "id": "NLSB8j8SfnmR",
        "colab_type": "text"
      },
      "source": [
        "The hello world of ROS is the Talker Listener grouping. The talker is a publisher which provides the message \"hello world\". The listener is a subscriber which listens for the talkers message \"hello world\". "
      ]
    },
    {
      "cell_type": "markdown",
      "metadata": {
        "id": "ke3AYONqk-No",
        "colab_type": "text"
      },
      "source": [
        "Ros graph to fetch an object"
      ]
    },
    {
      "cell_type": "markdown",
      "metadata": {
        "id": "w3eSUZZqoOS5",
        "colab_type": "text"
      },
      "source": [
        "Workspaces are built using catkin the build tool that is used in ROS development."
      ]
    },
    {
      "cell_type": "code",
      "metadata": {
        "id": "PILX8jHboSDB",
        "colab_type": "code",
        "colab": {}
      },
      "source": [
        "user@hostname$ mkdir -p ~/catkin_ws/src\n",
        "user@hostname$ cd ~/catkin_ws/src\n",
        "user@hostname$ catkin_init_workspace"
      ],
      "execution_count": 0,
      "outputs": []
    },
    {
      "cell_type": "code",
      "metadata": {
        "id": "kB6jffyAoqEj",
        "colab_type": "code",
        "colab": {}
      },
      "source": [
        "user@hostname$ cd ~/catkin_ws\n",
        "user@hostname$ catkin_make"
      ],
      "execution_count": 0,
      "outputs": []
    },
    {
      "cell_type": "markdown",
      "metadata": {
        "id": "cCu2EQp2o9bl",
        "colab_type": "text"
      },
      "source": [
        "Build your workspce\n"
      ]
    },
    {
      "cell_type": "code",
      "metadata": {
        "id": "KY-Ul5d7pDdO",
        "colab_type": "code",
        "colab": {}
      },
      "source": [
        "user@hostname$ cd ~/catkin_ws/src\n",
        "user@hostname$ catkin_create_pkg my_awesome_code rospy"
      ],
      "execution_count": 0,
      "outputs": []
    },
    {
      "cell_type": "markdown",
      "metadata": {
        "id": "WZgUX4yNpP6Z",
        "colab_type": "text"
      },
      "source": [
        "This causes the package my_awesome_code with directory by the same name to be created. Two files are added CMakeLists.txt and package.xml. This file contains descriptive information name, author etc. But it also contains dependencies. Th CMakeList file is more important for C++ development and this project will be done in Python."
      ]
    },
    {
      "cell_type": "code",
      "metadata": {
        "id": "4nmDM7AqqZeW",
        "colab_type": "code",
        "colab": {}
      },
      "source": [
        "<?xml version=\"1.0\"?>\n",
        "<package>\n",
        "  <name>my_awesome_code</name> 1\n",
        "  <version>0.0.0</version> 2\n",
        "  <description>The my_awesome_code package</description>  3\n",
        "\n",
        "  <!-- One maintainer tag required, multiple allowed, one person per tag -->\n",
        "  <!-- Example:  -->\n",
        "  <!-- <maintainer email=\"jane.doe@example.com\">Jane Doe</maintainer> -->\n",
        "  <maintainer email=\"user@todo.todo\">user</maintainer>  4\n",
        "\n",
        "\n",
        "  <!-- One license tag required, multiple allowed, one license per tag -->\n",
        "  <!-- Commonly used license strings: -->\n",
        "  <!--   BSD, MIT, Boost Software License, GPLv2, GPLv3, LGPLv2.1, LGPLv3 -->\n",
        "  <license>TODO</license>  5\n",
        "\n",
        "\n",
        "  <!-- Url tags are optional, but multiple are allowed, one per tag -->\n",
        "  <!-- Optional attribute type can be: website, bugtracker, or repository -->\n",
        "  <!-- Example: -->\n",
        "  <!-- <url type=\"website\">http://wiki.ros.org/my_awesome_code</url> -->    6\n",
        "\n",
        "\n",
        "  <!-- Author tags are optional, multiple are allowed, one per tag -->\n",
        "  <!-- Authors do not have to be maintainers, but could be -->\n",
        "  <!-- Example: -->\n",
        "  <!-- <author email=\"jane.doe@example.com\">Jane Doe</author> -->    7\n",
        "\n",
        "\n",
        "  <!-- The *_depend tags are used to specify dependencies -->\n",
        "  <!-- Dependencies can be catkin packages or system dependencies -->\n",
        "  <!-- Examples: -->\n",
        "  <!-- Use build_depend for packages you need at compile time: -->\n",
        "  <!--   <build_depend>message_generation</build_depend> -->\n",
        "  <!-- Use buildtool_depend for build tool packages: -->\n",
        "  <!--   <buildtool_depend>catkin</buildtool_depend> -->\n",
        "  <!-- Use run_depend for packages you need at runtime: -->\n",
        "  <!--   <run_depend>message_runtime</run_depend> -->\n",
        "  <!-- Use test_depend for packages you need only for testing: -->\n",
        "  <!--   <test_depend>gtest</test_depend> -->\n",
        "  <buildtool_depend>catkin</buildtool_depend>    8\n",
        "  <build_depend>rospy</build_depend>\n",
        "  <run_depend>rospy</run_depend>\n",
        "\n",
        "\n",
        "  <!-- The export tag contains other, unspecified, tags -->\n",
        "  <export>    9\n",
        "    <!-- Other tools can request additional information be placed here -->\n",
        "\n",
        "  </export>\n",
        "</package>\n"
      ],
      "execution_count": 0,
      "outputs": []
    },
    {
      "cell_type": "markdown",
      "metadata": {
        "id": "H4IwXgkdroSy",
        "colab_type": "text"
      },
      "source": [
        "rosrun and roslaunch are used to start nodes and packages. There are three ways for the nodes to communicate Topics, Services and Actions. Initially I am interested in Topics only. Now to introduce a basic publisher and subscriber."
      ]
    },
    {
      "cell_type": "markdown",
      "metadata": {
        "id": "PwUubWMXshMm",
        "colab_type": "text"
      },
      "source": [
        "Here is the code for a simple publisher which publishes consecutive integers ate a rate of 2Hz."
      ]
    },
    {
      "cell_type": "code",
      "metadata": {
        "id": "iACQcaLys0qf",
        "colab_type": "code",
        "colab": {}
      },
      "source": [
        "#!/usr/bin/env python\n",
        "\n",
        "import rospy\n",
        "\n",
        "from std_msgs.msg import Int32\n",
        "\n",
        "\n",
        "rospy.init_node('topic_publisher')\n",
        "\n",
        "pub = rospy.Publisher('counter', Int32, queue_size=10)\n",
        "\n",
        "rate = rospy.Rate(2)\n",
        "\n",
        "count = 0\n",
        "while not rospy.is_shutdown():\n",
        "    pub.publish(count)\n",
        "    count += 1\n",
        "    rate.sleep()"
      ],
      "execution_count": 0,
      "outputs": []
    },
    {
      "cell_type": "markdown",
      "metadata": {
        "id": "JviiOvOOCzEa",
        "colab_type": "text"
      },
      "source": [
        "Here is the code for a simple subscriber that subscribes to topic_publisher."
      ]
    },
    {
      "cell_type": "code",
      "metadata": {
        "id": "DpSWyonlCzU0",
        "colab_type": "code",
        "colab": {}
      },
      "source": [
        "#!/usr/bin/env python\n",
        "\n",
        "\n",
        "import rospy\n",
        "from std_msgs.msg import Int32\n",
        "\n",
        "\n",
        "def callback(msg):\n",
        "    print msg.data\n",
        "\n",
        "\n",
        "rospy.init_node('topic_subscriber')\n",
        "\n",
        "sub = rospy.Subscriber('counter', Int32, callback)\n",
        "\n",
        "rospy.spin()"
      ],
      "execution_count": 0,
      "outputs": []
    },
    {
      "cell_type": "markdown",
      "metadata": {
        "id": "bexPjIazDHhN",
        "colab_type": "text"
      },
      "source": [
        "Here is how to install turtlebot3 simulation.\n",
        "\n",
        "cd ~/msds462/src/\n",
        "\n",
        "git clone https://github.com/ROBOTIS-GIT/turtlebot3_msgs.git\n",
        "\n",
        "git clone https://github.com/ROBOTIS-GIT/turtlebot3.git\n",
        "\n",
        "cd ~/catkin_ws && catkin_make\n"
      ]
    },
    {
      "cell_type": "markdown",
      "metadata": {
        "id": "a3jHlYGxDw6_",
        "colab_type": "text"
      },
      "source": [
        "Open the .bashrc file for editting.\n",
        "gedit ~/.bashrc\n",
        "\n",
        "Add this line to the end. It is used to select the turtlebot3 model you want to simulate. Burger, Waffle, or Waffle pi\n",
        "export TURTLEBOT3_MODEL=burger\n",
        "\n",
        "Reload .bashrc\n",
        "source ~/.bashrc\n",
        "\n",
        "Now add the availble simulation environments\n",
        "cd ~/msds462/src/\n",
        "\n",
        "git clone https://github.com/ROBOTIS-GIT/turtlebot3_simulations.git\n",
        "\n",
        "cd ~/msds462 && catkin_make\n",
        "\n"
      ]
    },
    {
      "cell_type": "markdown",
      "metadata": {
        "id": "GRLWtEj8Fmcc",
        "colab_type": "text"
      },
      "source": [
        "To startup a simulation this command is used \n",
        "roslaunch turtlebot3_gazebo turtlebot3_empty_world.launch\n",
        "\n",
        "This command is used to operate the turtlebot3\n",
        "roslaunch turtlebot3_teleop turtlebot3_teleop_key.launch\n",
        "\n",
        "w/x is used to accelerate/decelerate linear velocity\n",
        "a/d is used to accelerate/decelerate angular velocity\n",
        "s is used to stop tb3\n"
      ]
    },
    {
      "cell_type": "markdown",
      "metadata": {
        "id": "qfwfspHXHFK4",
        "colab_type": "text"
      },
      "source": [
        "This is the a launch file I am working on to start a turtlebot3 wandering\n",
        "<launch> \n",
        "    <param name=\"/use_sim_time\" value=\"true\" />   \n",
        "\n",
        "    <!-- Launch turtle bot world -->\n",
        "    <include file=\"$(find turtlebot_gazebo)/launch/turtlebot_world.launch\"/>       \n",
        "\n",
        "    <!-- Launch stopper node -->\n",
        "    <node name=\"wander_bot\" pkg=\"wander_bot\" type=\"turtlebot_node.py\" output=\"screen\">\n",
        "        <param name=\"forward_speed\" type=\"double\" value=\"0.2\"/>\n",
        "        <param name=\"minimum_distance_from_obstacle\" type=\"double\" value=\"1.0\"/>\n",
        "        <param name=\"rotation_speed\" type=\"int\" value=\"2\"/>\n",
        "        <param name=\"minimum_angle\" type=\"int\" value=\"-30\"/>\n",
        "        <param name=\"maximum_angle\" type=\"int\" value=\"30\"/>\n",
        "    </node>\n",
        "</launch>"
      ]
    },
    {
      "cell_type": "markdown",
      "metadata": {
        "id": "06p2vS-TIBXQ",
        "colab_type": "text"
      },
      "source": [
        "This is the beginning of the code for the wandering tb3"
      ]
    },
    {
      "cell_type": "code",
      "metadata": {
        "id": "SNma7rPpISMP",
        "colab_type": "code",
        "colab": {}
      },
      "source": [
        "#!/usr/bin/python\n",
        "\n",
        "import rospy\n",
        "import sys\n",
        "from turtlebot_logic import RosTurtlebotLogic\n",
        "\n",
        "\n",
        "def loadParams():\n",
        "    forwardSpeed = 0.2\n",
        "    rotationSpeed = 2\n",
        "    minDistanceFromObstacle = 1.0\n",
        "    minimumAngle = -30\n",
        "    maximumAngle = 30\n",
        "\n",
        "    if rospy.has_param('~forward_speed'):\n",
        "        forwardSpeed = rospy.get_param('~forward_speed')\n",
        "    if rospy.has_param('~rotation_speed'):\n",
        "        rotationSpeed = rospy.get_param('~rotation_speed')\n",
        "    if rospy.has_param('~minimum_distance_from_obstacle'):\n",
        "        minDistanceFromObstacle = rospy.get_param('~minimum_distance_from_obstacle')\n",
        "    if rospy.has_param('~minimum_angle'):\n",
        "        minimumAngle = rospy.get_param('~minimum_angle')\n",
        "    if rospy.has_param('~maximum_angle'):\n",
        "        maximumAngle = rospy.get_param('~maximum_angle')\n",
        "\n",
        "    return forwardSpeed, rotationSpeed, minDistanceFromObstacle, minimumAngle, maximumAngle\n",
        "\n",
        "\n",
        "if __name__ == \"__main__\":\n",
        "    rospy.loginfo(\"Started program.\")\n",
        "\n",
        "    rospy.init_node(\"stopper_node\", argv=sys.argv)\n",
        "    forwardSpeed, rotationSpeed, minDistanceFromObstacle, minimumAngle, maximumAngle = loadParams()\n",
        "    rospy.loginfo(\"Finished import parameters.\")\n",
        "\n",
        "    my_stopper = RosTurtlebotLogic(forwardSpeed, rotationSpeed, minDistanceFromObstacle, minimumAngle, maximumAngle)\n",
        "    my_stopper.startMoving()"
      ],
      "execution_count": 0,
      "outputs": []
    },
    {
      "cell_type": "markdown",
      "metadata": {
        "id": "rMkxet_cIUPQ",
        "colab_type": "text"
      },
      "source": [
        "Beginnings of the logic for the wandering TB3"
      ]
    },
    {
      "cell_type": "code",
      "metadata": {
        "id": "wz4SPuNbIclc",
        "colab_type": "code",
        "colab": {}
      },
      "source": [
        "#!/usr/bin/python\n",
        "\n",
        "import math\n",
        "import rospy\n",
        "from geometry_msgs.msg import Twist\n",
        "from sensor_msgs.msg import LaserScan\n",
        "\n",
        "\n",
        "class RosTurtlebotLogic(object):\n",
        "\n",
        "    def __init__(self, forwardSpeed, rotationSpeed, minDistanceFromObstacle, minimumAngle, maximumAngle):\n",
        "        self.forwardSpeed = forwardSpeed\n",
        "        self.rotationSpeed = rotationSpeed\n",
        "        self.minDistanceFromObstacle = minDistanceFromObstacle\n",
        "\n",
        "        # Keeps the current minimum distance from obstacle from laser.\n",
        "        self.minimumRangeAhead = 5\n",
        "        # In which direction to rotate, left or right.\n",
        "        self.rotationDirection = 0\n",
        "        self.minimumIndexLaser = 360 * (90 + minimumAngle) / 90\n",
        "        self.maximumIndexLaser = 360 * (90 + maximumAngle) / 90 - 1\n",
        "        self.keepMoving = True\n",
        "\n",
        "        self.commandPub = rospy.Publisher(\"/cmd_vel_mux/input/teleop\", Twist, queue_size=10)\n",
        "        rospy.Subscriber(\"scan\", LaserScan, self.scanCallback, queue_size=10)\n",
        "\n",
        "    def startMoving(self):\n",
        "        rate = rospy.Rate(10)\n",
        "\n",
        "        while(not rospy.is_shutdown()):\n",
        "            if(self.keepMoving):\n",
        "                if (self.minimumRangeAhead < self.minDistanceFromObstacle):\n",
        "                    self.keepMoving = False\n",
        "            else:\n",
        "                if(self.minimumRangeAhead > self.minDistanceFromObstacle):\n",
        "                    self.keepMoving = True\n",
        "\n",
        "            twist = Twist()\n",
        "            if(self.keepMoving):\n",
        "                twist.linear.x = self.forwardSpeed\n",
        "            else:\n",
        "                twist.angular.z = self.rotationDirection\n",
        "\n",
        "            self.commandPub.publish(twist)\n",
        "            rate.sleep()\n",
        "\n",
        "    def scanCallback(self, scan_msg):\n",
        "        minimum = 100\n",
        "        index = 0\n",
        "\n",
        "        # Find the minimum distance to obstacle and we keep the minimum distance and the index.\n",
        "        # We need the minimum distance in order to know if we can go forward or not.\n",
        "        # We need the index to know in which direction to rotate.\n",
        "        if(not math.isnan(scan_msg.ranges[self.minimumIndexLaser])):\n",
        "            minimum = scan_msg.ranges[self.minimumIndexLaser]\n",
        "\n",
        "        for i in range(self.minimumIndexLaser, self.maximumIndexLaser + 1):\n",
        "            if(not math.isnan(scan_msg.ranges[i]) and scan_msg.ranges[i] < minimum):\n",
        "                minimum = scan_msg.ranges[i]\n",
        "                index = i\n",
        "\n",
        "        self.minimumRangeAhead = minimum\n",
        "\n",
        "        if(index <= 359):\n",
        "            self.rotationDirection = self.rotationSpeed\n",
        "        else:\n",
        "            self.rotationDirection = -self.rotationSpeed"
      ],
      "execution_count": 0,
      "outputs": []
    }
  ]
}