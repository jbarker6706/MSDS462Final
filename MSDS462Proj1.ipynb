{
  "nbformat": 4,
  "nbformat_minor": 0,
  "metadata": {
    "colab": {
      "name": "MSDS462Proj1.ipynb",
      "provenance": [],
      "authorship_tag": "ABX9TyOjeZVVngyiSSfdGFK33a2j",
      "include_colab_link": true
    },
    "kernelspec": {
      "name": "python3",
      "display_name": "Python 3"
    }
  },
  "cells": [
    {
      "cell_type": "markdown",
      "metadata": {
        "id": "view-in-github",
        "colab_type": "text"
      },
      "source": [
        "<a href=\"https://colab.research.google.com/github/jbarker6706/MSDS462Final/blob/master/MSDS462Proj1.ipynb\" target=\"_parent\"><img src=\"https://colab.research.google.com/assets/colab-badge.svg\" alt=\"Open In Colab\"/></a>"
      ]
    },
    {
      "cell_type": "markdown",
      "metadata": {
        "id": "diDIyngklcaj",
        "colab_type": "text"
      },
      "source": [
        "To install ROS and configure for development"
      ]
    },
    {
      "cell_type": "code",
      "metadata": {
        "id": "AI6ed_QEezfs",
        "colab_type": "code",
        "colab": {}
      },
      "source": [
        "echo deb http://packages.ros.org/ros/ubuntu $(lsb_release -sc) main | sudo tee /etc/apt/sources.list.d/ros-latest.list\n",
        "sudo apt-key adv --keyserver hkp://keyserver.ubuntu.com:80 --recv-key C1CF6E31E6BADE8868B172B4F42ED6FBAB17C654\n",
        "sudo apt -y update\n",
        "sudo apt -y install ros-melodic-desktop-full python-rosdep python-rosinstall python-rosinstall-generator python-wstool build-essential\n",
        "echo source /opt/ros/melodic/setup.bash >> ~/.bashrc"
      ],
      "execution_count": 0,
      "outputs": []
    },
    {
      "cell_type": "markdown",
      "metadata": {
        "id": "gcgKRayofSsy",
        "colab_type": "text"
      },
      "source": [
        "Create an SSH server to allow access from my Window laptop and a Docker Platform"
      ]
    },
    {
      "cell_type": "code",
      "metadata": {
        "id": "BnfeJiEPfdSk",
        "colab_type": "code",
        "colab": {}
      },
      "source": [
        "sudo apt install openssh-server docker.io"
      ],
      "execution_count": 0,
      "outputs": []
    },
    {
      "cell_type": "markdown",
      "metadata": {
        "id": "XZim4mm-fpqR",
        "colab_type": "text"
      },
      "source": [
        "To find the ip address of the Unbuntu machine"
      ]
    },
    {
      "cell_type": "code",
      "metadata": {
        "id": "R89aAZECfyCw",
        "colab_type": "code",
        "colab": {}
      },
      "source": [
        "ip -br address show"
      ],
      "execution_count": 0,
      "outputs": []
    },
    {
      "cell_type": "markdown",
      "metadata": {
        "id": "-XzoG6bXgAB8",
        "colab_type": "text"
      },
      "source": [
        "Additional Utilities and installation:\n",
        "  turtlebot3 simulator install,\n",
        "  editor,\n",
        "  pycharm"
      ]
    },
    {
      "cell_type": "code",
      "metadata": {
        "id": "Gvqc_Ag2gY7b",
        "colab_type": "code",
        "colab": {}
      },
      "source": [
        "sudo apt install ros-melodic-turtlebot3\n",
        "gedit script.py\n",
        "gedit ~/Downloads/todo.txt\n",
        "sudo snap install pycharm-community --classic"
      ],
      "execution_count": 0,
      "outputs": []
    },
    {
      "cell_type": "markdown",
      "metadata": {
        "id": "WQoMmRsnfBCH",
        "colab_type": "text"
      },
      "source": [
        "ROS Nodes"
      ]
    },
    {
      "cell_type": "markdown",
      "metadata": {
        "id": "lYMsy23lgzve",
        "colab_type": "text"
      },
      "source": [
        "ROS is a framework that provides developers of robots all the needed tools to build robots. They also provide a simulation environment which can can let the engineer test the code prior to instlling in the robot. "
      ]
    },
    {
      "cell_type": "markdown",
      "metadata": {
        "id": "YNJ4dzm6h6I2",
        "colab_type": "text"
      },
      "source": [
        "With ROS the robot is built around the idea of nodes and the ROS graph which follow publisher subscriber design pattern. With the frame work there is a master controller called roscore which each new node must register with as a publisher and request nodes it wants to subscribe to. A node is a speciliaed program that does one thing well such has provide odometer information which contains the location and postion of the robot."
      ]
    },
    {
      "cell_type": "markdown",
      "metadata": {
        "id": "NLSB8j8SfnmR",
        "colab_type": "text"
      },
      "source": [
        "The hello world of ROS is the Talker Listener grouping. The talker is a publisher which provides the message \"hello world\". The listener is a subscriber which listens for the talkers message \"hello world\". "
      ]
    },
    {
      "cell_type": "markdown",
      "metadata": {
        "id": "ke3AYONqk-No",
        "colab_type": "text"
      },
      "source": [
        "Ros graph to fetch an object"
      ]
    },
    {
      "cell_type": "markdown",
      "metadata": {
        "id": "w3eSUZZqoOS5",
        "colab_type": "text"
      },
      "source": [
        "Workspaces are built using catkin the build tool that is used in ROS development."
      ]
    },
    {
      "cell_type": "code",
      "metadata": {
        "id": "PILX8jHboSDB",
        "colab_type": "code",
        "colab": {}
      },
      "source": [
        "user@hostname$ mkdir -p ~/catkin_ws/src\n",
        "user@hostname$ cd ~/catkin_ws/src\n",
        "user@hostname$ catkin_init_workspace"
      ],
      "execution_count": 0,
      "outputs": []
    },
    {
      "cell_type": "code",
      "metadata": {
        "id": "kB6jffyAoqEj",
        "colab_type": "code",
        "colab": {}
      },
      "source": [
        "user@hostname$ cd ~/catkin_ws\n",
        "user@hostname$ catkin_make"
      ],
      "execution_count": 0,
      "outputs": []
    },
    {
      "cell_type": "markdown",
      "metadata": {
        "id": "cCu2EQp2o9bl",
        "colab_type": "text"
      },
      "source": [
        "Build your workspce\n"
      ]
    },
    {
      "cell_type": "code",
      "metadata": {
        "id": "KY-Ul5d7pDdO",
        "colab_type": "code",
        "colab": {}
      },
      "source": [
        "user@hostname$ cd ~/catkin_ws/src\n",
        "user@hostname$ catkin_create_pkg my_awesome_code rospy"
      ],
      "execution_count": 0,
      "outputs": []
    },
    {
      "cell_type": "markdown",
      "metadata": {
        "id": "WZgUX4yNpP6Z",
        "colab_type": "text"
      },
      "source": [
        "This causes the package my_awesome_code with directory by the same name to be created. Two files are added CMakeLists.txt and package.xml. This file contains descriptive information name, author etc. But it also contains dependencies. Th CMakeList file is more important for C++ development and this project will be done in Python."
      ]
    },
    {
      "cell_type": "code",
      "metadata": {
        "id": "4nmDM7AqqZeW",
        "colab_type": "code",
        "colab": {}
      },
      "source": [
        "<?xml version=\"1.0\"?>\n",
        "<package>\n",
        "  <name>my_awesome_code</name> 1\n",
        "  <version>0.0.0</version> 2\n",
        "  <description>The my_awesome_code package</description>  3\n",
        "\n",
        "  <!-- One maintainer tag required, multiple allowed, one person per tag -->\n",
        "  <!-- Example:  -->\n",
        "  <!-- <maintainer email=\"jane.doe@example.com\">Jane Doe</maintainer> -->\n",
        "  <maintainer email=\"user@todo.todo\">user</maintainer>  4\n",
        "\n",
        "\n",
        "  <!-- One license tag required, multiple allowed, one license per tag -->\n",
        "  <!-- Commonly used license strings: -->\n",
        "  <!--   BSD, MIT, Boost Software License, GPLv2, GPLv3, LGPLv2.1, LGPLv3 -->\n",
        "  <license>TODO</license>  5\n",
        "\n",
        "\n",
        "  <!-- Url tags are optional, but multiple are allowed, one per tag -->\n",
        "  <!-- Optional attribute type can be: website, bugtracker, or repository -->\n",
        "  <!-- Example: -->\n",
        "  <!-- <url type=\"website\">http://wiki.ros.org/my_awesome_code</url> -->    6\n",
        "\n",
        "\n",
        "  <!-- Author tags are optional, multiple are allowed, one per tag -->\n",
        "  <!-- Authors do not have to be maintainers, but could be -->\n",
        "  <!-- Example: -->\n",
        "  <!-- <author email=\"jane.doe@example.com\">Jane Doe</author> -->    7\n",
        "\n",
        "\n",
        "  <!-- The *_depend tags are used to specify dependencies -->\n",
        "  <!-- Dependencies can be catkin packages or system dependencies -->\n",
        "  <!-- Examples: -->\n",
        "  <!-- Use build_depend for packages you need at compile time: -->\n",
        "  <!--   <build_depend>message_generation</build_depend> -->\n",
        "  <!-- Use buildtool_depend for build tool packages: -->\n",
        "  <!--   <buildtool_depend>catkin</buildtool_depend> -->\n",
        "  <!-- Use run_depend for packages you need at runtime: -->\n",
        "  <!--   <run_depend>message_runtime</run_depend> -->\n",
        "  <!-- Use test_depend for packages you need only for testing: -->\n",
        "  <!--   <test_depend>gtest</test_depend> -->\n",
        "  <buildtool_depend>catkin</buildtool_depend>    8\n",
        "  <build_depend>rospy</build_depend>\n",
        "  <run_depend>rospy</run_depend>\n",
        "\n",
        "\n",
        "  <!-- The export tag contains other, unspecified, tags -->\n",
        "  <export>    9\n",
        "    <!-- Other tools can request additional information be placed here -->\n",
        "\n",
        "  </export>\n",
        "</package>\n"
      ],
      "execution_count": 0,
      "outputs": []
    },
    {
      "cell_type": "markdown",
      "metadata": {
        "id": "H4IwXgkdroSy",
        "colab_type": "text"
      },
      "source": [
        "rosrun and roslaunch are used to start nodes and packages. There are three ways for the nodes to communicate Topics, Services and Actions. Initially I am interested in Topics only. Now to introduce a basic publisher and subscriber."
      ]
    },
    {
      "cell_type": "markdown",
      "metadata": {
        "id": "PwUubWMXshMm",
        "colab_type": "text"
      },
      "source": [
        "Here is the code for a simple publisher which publishes consecutive integers ate a rate of 2Hz."
      ]
    },
    {
      "cell_type": "code",
      "metadata": {
        "id": "iACQcaLys0qf",
        "colab_type": "code",
        "colab": {}
      },
      "source": [
        "#!/usr/bin/env python\n",
        "\n",
        "import rospy\n",
        "\n",
        "from std_msgs.msg import Int32\n",
        "\n",
        "\n",
        "rospy.init_node('topic_publisher')\n",
        "\n",
        "pub = rospy.Publisher('counter', Int32)\n",
        "\n",
        "rate = rospy.Rate(2)\n",
        "\n",
        "count = 0\n",
        "while not rospy.is_shutdown():\n",
        "    pub.publish(count)\n",
        "    count += 1\n",
        "    rate.sleep()"
      ],
      "execution_count": 0,
      "outputs": []
    },
    {
      "cell_type": "markdown",
      "metadata": {
        "id": "JviiOvOOCzEa",
        "colab_type": "text"
      },
      "source": [
        "Here is the code for a simple subscriber that subscribes to topic_publisher."
      ]
    },
    {
      "cell_type": "code",
      "metadata": {
        "id": "DpSWyonlCzU0",
        "colab_type": "code",
        "colab": {}
      },
      "source": [
        "#!/usr/bin/env python\n",
        "\n",
        "\n",
        "import rospy\n",
        "from std_msgs.msg import Int32\n",
        "\n",
        "\n",
        "def callback(msg):\n",
        "    print msg.data\n",
        "\n",
        "\n",
        "rospy.init_node('topic_subscriber')\n",
        "\n",
        "sub = rospy.Subscriber('counter', Int32, callback)\n",
        "\n",
        "rospy.spin()"
      ],
      "execution_count": 0,
      "outputs": []
    }
  ]
}